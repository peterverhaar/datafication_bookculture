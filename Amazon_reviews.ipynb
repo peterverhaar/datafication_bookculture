{
 "cells": [
  {
   "cell_type": "code",
   "execution_count": 1,
   "id": "533bc32c",
   "metadata": {},
   "outputs": [],
   "source": [
    "import os\n",
    "from os.path import join\n",
    "import pandas as pd\n",
    "import re\n",
    "from tqdm import tqdm\n",
    "from datetime import datetime\n",
    "from nltk import word_tokenize, sent_tokenize\n",
    "from nltk.corpus import stopwords\n",
    "import string\n",
    "stopwords = stopwords.words('english')\n",
    "punctuation_marks = [char for char in string.punctuation]\n",
    "from vaderSentiment.vaderSentiment import SentimentIntensityAnalyzer \n",
    "ana = SentimentIntensityAnalyzer()\n",
    "\n",
    "\n",
    "def remove_html_tags(text):\n",
    "    \"\"\"Remove html tags from a string\"\"\"\n",
    "    import re\n",
    "    clean = re.compile('<.*?>')\n",
    "    return re.sub(clean, '', text)"
   ]
  },
  {
   "cell_type": "code",
   "execution_count": 2,
   "id": "3d533945",
   "metadata": {},
   "outputs": [
    {
     "name": "stdout",
     "output_type": "stream",
     "text": [
      "182\n"
     ]
    }
   ],
   "source": [
    "directory = 'Lists'\n",
    "books = dict()\n",
    "\n",
    "files = os.listdir(directory)\n",
    "files = [file for file in files if not(re.search(r'^[.]',file))]\n",
    "for list in files:\n",
    "\n",
    "    path = os.path.join(directory,list)\n",
    "    df = pd.read_csv(path,sep='\\t')\n",
    "    for i,row in df.iterrows():\n",
    "        asin = row['amazon_product_url']\n",
    "        asin = os.path.basename(asin)\n",
    "        asin = asin[:asin.index('?')]\n",
    "        books[asin] = row['primary_isbn13']\n",
    "\n",
    "print(len(books))"
   ]
  },
  {
   "cell_type": "code",
   "execution_count": 3,
   "id": "001ce8d9",
   "metadata": {},
   "outputs": [
    {
     "name": "stderr",
     "output_type": "stream",
     "text": [
      "Found cached dataset amazon-reviews-2023 (/Users/verhaarpaf/.cache/huggingface/datasets/McAuley-Lab___amazon-reviews-2023/raw_review_Books/0.0.0/16b76e0823d73bb8cff1e9c5e3e37dbc46ae3daee380417ae141f5e67d3ea8e8)\n"
     ]
    },
    {
     "data": {
      "application/vnd.jupyter.widget-view+json": {
       "model_id": "f4f8fb82a4ec4bd891096fbefc8ba1e8",
       "version_major": 2,
       "version_minor": 0
      },
      "text/plain": [
       "  0%|          | 0/1 [00:00<?, ?it/s]"
      ]
     },
     "metadata": {},
     "output_type": "display_data"
    }
   ],
   "source": [
    "from datasets import load_dataset\n",
    "dataset = load_dataset(\"McAuley-Lab/Amazon-Reviews-2023\", \"raw_review_Books\")"
   ]
  },
  {
   "cell_type": "code",
   "execution_count": 4,
   "id": "ec662b49",
   "metadata": {},
   "outputs": [
    {
     "name": "stderr",
     "output_type": "stream",
     "text": [
      "100%|██████████████████████████████| 2863589/2863589 [03:10<00:00, 15011.69it/s]\n"
     ]
    }
   ],
   "source": [
    "full_text = dict()\n",
    "\n",
    "for record in tqdm(dataset[\"full\"]):\n",
    "    if record['asin'] in books:\n",
    "        isbn = books[record['asin']]\n",
    "        full_text[isbn] = full_text.get(isbn,'') + record['title'] + ' ' + record['text'] + '\\n'"
   ]
  },
  {
   "cell_type": "code",
   "execution_count": 5,
   "id": "ceb1c8b4",
   "metadata": {},
   "outputs": [],
   "source": [
    "out_dir = 'Amazon_reviews'\n",
    "for isbn in full_text: \n",
    "    path = join(out_dir,f'reviews_{isbn}.txt')\n",
    "    out = open(path,'w',encoding='utf-8')\n",
    "    plain_text = remove_html_tags(full_text[isbn].strip())\n",
    "    out.write(plain_text)\n",
    "    out.close()"
   ]
  },
  {
   "cell_type": "code",
   "execution_count": 6,
   "id": "e6da8b12",
   "metadata": {},
   "outputs": [
    {
     "name": "stderr",
     "output_type": "stream",
     "text": [
      "100%|██████████████████████████████| 2863589/2863589 [03:27<00:00, 13822.38it/s]\n"
     ]
    }
   ],
   "source": [
    "review_id = 0\n",
    "reviews = []\n",
    "\n",
    "for record in tqdm(dataset[\"full\"]):\n",
    "    if record['asin'] in books:\n",
    "\n",
    "        data = dict()\n",
    "        review_id+=1\n",
    "        data['review_id'] = \"{:07d}\".format(review_id)\n",
    "        data['user_id'] = record['user_id']\n",
    "        data['rating'] = record['rating']\n",
    "        data['asin'] = record['asin']\n",
    "        data['isbn'] = books[record['asin']]\n",
    "        ts = int(record['timestamp'])/1000\n",
    "        date = datetime.utcfromtimestamp(ts).strftime('%Y-%m-%d %H:%M:%S')\n",
    "        data['date'] = date\n",
    "        \n",
    "        ## textual analysis\n",
    "        text = record['text'].lower()\n",
    "        words = word_tokenize(text)\n",
    "        words = [word for word in words if word not in punctuation_marks]\n",
    "        data['nr_tokens'] = len(words)\n",
    "        sentences = sent_tokenize(text)\n",
    "        data['nr_sentences'] = len(sentences)\n",
    "        \n",
    "        sum_positive = 0\n",
    "        sum_negative = 0\n",
    "        sum_compound = 0\n",
    "        \n",
    "        positive_words = 0\n",
    "        negative_words = 0\n",
    "        \n",
    "        \n",
    "        for word in words:\n",
    "            sum_positive += ana.polarity_scores(word)['pos']\n",
    "            if ana.polarity_scores(word)['pos']>0.7:\n",
    "                positive_words += 1\n",
    "            if ana.polarity_scores(word)['pos']<-0.7:\n",
    "                negative_words += 1\n",
    "            sum_negative += ana.polarity_scores(word)['neg']\n",
    "            sum_compound += ana.polarity_scores(word)['compound']\n",
    "            \n",
    "        data['positive'] = sum_positive\n",
    "        data['negative'] = sum_negative\n",
    "        data['compound'] = sum_compound   \n",
    "        reviews.append(data)\n"
   ]
  },
  {
   "cell_type": "code",
   "execution_count": 7,
   "id": "24d33dfd",
   "metadata": {},
   "outputs": [],
   "source": [
    "df = pd.DataFrame(reviews)"
   ]
  },
  {
   "cell_type": "code",
   "execution_count": null,
   "id": "dea7bc26",
   "metadata": {},
   "outputs": [],
   "source": []
  },
  {
   "cell_type": "code",
   "execution_count": 16,
   "id": "34d43e69",
   "metadata": {},
   "outputs": [],
   "source": [
    "isbn = df.groupby('isbn')['review_id'].count().index.values.tolist()\n",
    "nr_reviews = df.groupby('isbn')['review_id'].count().tolist()\n",
    "average_rating = df.groupby('isbn')['rating'].mean().tolist()\n",
    "nr_tokens = df.groupby('isbn')['nr_tokens'].sum().tolist()\n",
    "nr_sentences = df.groupby('isbn')['nr_sentences'].sum().tolist()\n",
    "positive = df.groupby('isbn')['positive'].sum().tolist()\n",
    "negative = df.groupby('isbn')['negative'].sum().tolist()\n",
    "compound = df.groupby('isbn')['compound'].sum().tolist()\n",
    "\n"
   ]
  },
  {
   "cell_type": "code",
   "execution_count": 21,
   "id": "5482bfeb",
   "metadata": {},
   "outputs": [
    {
     "data": {
      "text/html": [
       "<div>\n",
       "<style scoped>\n",
       "    .dataframe tbody tr th:only-of-type {\n",
       "        vertical-align: middle;\n",
       "    }\n",
       "\n",
       "    .dataframe tbody tr th {\n",
       "        vertical-align: top;\n",
       "    }\n",
       "\n",
       "    .dataframe thead th {\n",
       "        text-align: right;\n",
       "    }\n",
       "</style>\n",
       "<table border=\"1\" class=\"dataframe\">\n",
       "  <thead>\n",
       "    <tr style=\"text-align: right;\">\n",
       "      <th></th>\n",
       "      <th>isbn</th>\n",
       "      <th>nr_reviews</th>\n",
       "      <th>average_rating</th>\n",
       "      <th>nr_tokens</th>\n",
       "      <th>nr_sentences</th>\n",
       "      <th>positive</th>\n",
       "      <th>negative</th>\n",
       "      <th>compound</th>\n",
       "      <th>average_tokens</th>\n",
       "    </tr>\n",
       "  </thead>\n",
       "  <tbody>\n",
       "    <tr>\n",
       "      <th>0</th>\n",
       "      <td>9780062356345</td>\n",
       "      <td>12</td>\n",
       "      <td>4.500000</td>\n",
       "      <td>977</td>\n",
       "      <td>67</td>\n",
       "      <td>0.047083</td>\n",
       "      <td>0.032753</td>\n",
       "      <td>0.005343</td>\n",
       "      <td>81.416667</td>\n",
       "    </tr>\n",
       "    <tr>\n",
       "      <th>1</th>\n",
       "      <td>9780062434029</td>\n",
       "      <td>8</td>\n",
       "      <td>4.625000</td>\n",
       "      <td>330</td>\n",
       "      <td>18</td>\n",
       "      <td>0.081818</td>\n",
       "      <td>0.018182</td>\n",
       "      <td>0.027911</td>\n",
       "      <td>41.250000</td>\n",
       "    </tr>\n",
       "    <tr>\n",
       "      <th>2</th>\n",
       "      <td>9780062667632</td>\n",
       "      <td>36</td>\n",
       "      <td>2.416667</td>\n",
       "      <td>3800</td>\n",
       "      <td>221</td>\n",
       "      <td>0.040000</td>\n",
       "      <td>0.033684</td>\n",
       "      <td>0.003730</td>\n",
       "      <td>105.555556</td>\n",
       "    </tr>\n",
       "    <tr>\n",
       "      <th>3</th>\n",
       "      <td>9780062671189</td>\n",
       "      <td>8</td>\n",
       "      <td>4.375000</td>\n",
       "      <td>1052</td>\n",
       "      <td>54</td>\n",
       "      <td>0.052281</td>\n",
       "      <td>0.019962</td>\n",
       "      <td>0.015109</td>\n",
       "      <td>131.500000</td>\n",
       "    </tr>\n",
       "    <tr>\n",
       "      <th>4</th>\n",
       "      <td>9780062834843</td>\n",
       "      <td>45</td>\n",
       "      <td>3.777778</td>\n",
       "      <td>3143</td>\n",
       "      <td>187</td>\n",
       "      <td>0.059179</td>\n",
       "      <td>0.031499</td>\n",
       "      <td>0.010964</td>\n",
       "      <td>69.844444</td>\n",
       "    </tr>\n",
       "  </tbody>\n",
       "</table>\n",
       "</div>"
      ],
      "text/plain": [
       "            isbn  nr_reviews  average_rating  nr_tokens  nr_sentences  \\\n",
       "0  9780062356345          12        4.500000        977            67   \n",
       "1  9780062434029           8        4.625000        330            18   \n",
       "2  9780062667632          36        2.416667       3800           221   \n",
       "3  9780062671189           8        4.375000       1052            54   \n",
       "4  9780062834843          45        3.777778       3143           187   \n",
       "\n",
       "   positive  negative  compound  average_tokens  \n",
       "0  0.047083  0.032753  0.005343       81.416667  \n",
       "1  0.081818  0.018182  0.027911       41.250000  \n",
       "2  0.040000  0.033684  0.003730      105.555556  \n",
       "3  0.052281  0.019962  0.015109      131.500000  \n",
       "4  0.059179  0.031499  0.010964       69.844444  "
      ]
     },
     "execution_count": 21,
     "metadata": {},
     "output_type": "execute_result"
    }
   ],
   "source": [
    "df_isbn = pd.DataFrame( \n",
    "{\n",
    "    'isbn':isbn,\n",
    "    'nr_reviews':nr_reviews,    \n",
    "    'average_rating':average_rating,\n",
    "    'nr_tokens':nr_tokens,\n",
    "    'nr_sentences':nr_sentences,\n",
    "    'positive':positive,\n",
    "    'negative':negative,\n",
    "    'compound':compound\n",
    "}\n",
    "\n",
    ")\n",
    "\n",
    "df_isbn['average_tokens'] = df_isbn['nr_tokens'] / df_isbn['nr_reviews']\n",
    "df_isbn['positive'] = df_isbn['positive'] / df_isbn['nr_tokens']\n",
    "df_isbn['negative'] = df_isbn['negative'] / df_isbn['nr_tokens']\n",
    "df_isbn['compound'] = df_isbn['compound'] / df_isbn['nr_tokens']\n",
    "df_isbn.head()"
   ]
  },
  {
   "cell_type": "code",
   "execution_count": 23,
   "id": "75995492",
   "metadata": {},
   "outputs": [],
   "source": [
    "df_isbn.to_csv('amazon_statistics.csv')"
   ]
  },
  {
   "cell_type": "code",
   "execution_count": null,
   "id": "06e58f75",
   "metadata": {},
   "outputs": [],
   "source": []
  }
 ],
 "metadata": {
  "kernelspec": {
   "display_name": "Python 3 (ipykernel)",
   "language": "python",
   "name": "python3"
  },
  "language_info": {
   "codemirror_mode": {
    "name": "ipython",
    "version": 3
   },
   "file_extension": ".py",
   "mimetype": "text/x-python",
   "name": "python",
   "nbconvert_exporter": "python",
   "pygments_lexer": "ipython3",
   "version": "3.7.9"
  }
 },
 "nbformat": 4,
 "nbformat_minor": 5
}
