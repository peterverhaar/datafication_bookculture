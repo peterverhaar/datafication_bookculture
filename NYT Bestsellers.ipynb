{
 "cells": [
  {
   "cell_type": "code",
   "execution_count": null,
   "id": "144f5874",
   "metadata": {},
   "outputs": [],
   "source": [
    "import requests\n",
    "import re\n",
    "from os.path import join"
   ]
  },
  {
   "cell_type": "code",
   "execution_count": null,
   "id": "45938900",
   "metadata": {},
   "outputs": [],
   "source": [
    "api_key = ''\n",
    "secret = ''"
   ]
  },
  {
   "cell_type": "code",
   "execution_count": null,
   "id": "3f3bd0a7",
   "metadata": {},
   "outputs": [],
   "source": [
    "fields_str = '''rank\n",
    "rank_last_week\n",
    "primary_isbn13\n",
    "publisher\n",
    "description\n",
    "price\n",
    "title\n",
    "author\n",
    "contributor\n",
    "book_image\n",
    "book_image_width\n",
    "book_image_height\n",
    "amazon_product_url\n",
    "age_group\n",
    "book_review_link\n",
    "book_uri''' \n",
    "\n",
    "fields = re.split( r'\\n' , fields_str.strip() )\n",
    "print( fields )"
   ]
  },
  {
   "cell_type": "code",
   "execution_count": null,
   "id": "c2f4cc5b",
   "metadata": {},
   "outputs": [],
   "source": [
    "out_dir = 'Lists'\n",
    "\n",
    "def get_bestsellers_list(date):\n",
    "\n",
    "    api_call = f'https://api.nytimes.com/svc/books/v3/lists/{date}/hardcover-fiction.json?api-key={api_key}'\n",
    "    print(api_call)\n",
    "\n",
    "    response = requests.get(api_call)\n",
    "\n",
    "    if response:\n",
    "        response.encoding = 'utf-8'\n",
    "        contents = response.json()\n",
    "            \n",
    "        publ_date = contents['results']['published_date']\n",
    "        print( f'Downloaded list: {publ_date}')\n",
    "        previous_date = contents['results']['previous_published_date']\n",
    "\n",
    "        out = open( join( out_dir , f'{publ_date}.tsv' ) , 'w' , encoding = 'utf-8' )\n",
    "\n",
    "        for i,field in enumerate(fields):\n",
    "            out.write( field )\n",
    "\n",
    "            if i != (len(fields)-1):\n",
    "                out.write('\\t')\n",
    "            else:\n",
    "                out.write('\\n')\n",
    "\n",
    "        books = contents['results']['books']\n",
    "        for b in books:\n",
    "            for i,field in enumerate(fields):\n",
    "                out.write( f'{b[field]}' )\n",
    "                if i != (len(fields)-1):\n",
    "                    out.write('\\t')\n",
    "                else:\n",
    "                    out.write('\\n')\n",
    "        return previous_date\n",
    "    "
   ]
  },
  {
   "cell_type": "code",
   "execution_count": null,
   "id": "4b816cf7",
   "metadata": {},
   "outputs": [],
   "source": [
    "import datetime\n",
    "import calendar\n",
    "import time\n",
    "\n",
    "#startdate\n",
    "date = datetime.date(2020, 1, 1)\n",
    "\n",
    "i = 0\n",
    "while date < datetime.date(2021, 1, 11):\n",
    "    get_bestsellers_list(date)\n",
    "    year = date.strftime(\"%Y\")\n",
    "    month = date.strftime(\"%m\")\n",
    "    day = date.strftime(\"%d\")\n",
    "    print( f'{year}-{month}-{day}' )\n",
    "    date = date + datetime.timedelta(days=2)\n",
    "    time.sleep(7)  \n"
   ]
  },
  {
   "cell_type": "code",
   "execution_count": null,
   "id": "ef0845fc",
   "metadata": {},
   "outputs": [],
   "source": []
  }
 ],
 "metadata": {
  "kernelspec": {
   "display_name": "Python 3 (ipykernel)",
   "language": "python",
   "name": "python3"
  },
  "language_info": {
   "codemirror_mode": {
    "name": "ipython",
    "version": 3
   },
   "file_extension": ".py",
   "mimetype": "text/x-python",
   "name": "python",
   "nbconvert_exporter": "python",
   "pygments_lexer": "ipython3",
   "version": "3.7.9"
  }
 },
 "nbformat": 4,
 "nbformat_minor": 5
}
